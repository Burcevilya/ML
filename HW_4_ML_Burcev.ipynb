{
 "cells": [
  {
   "cell_type": "code",
   "execution_count": 70,
   "metadata": {},
   "outputs": [],
   "source": [
    "import pandas as pd\n",
    "import numpy as np"
   ]
  },
  {
   "cell_type": "code",
   "execution_count": 71,
   "metadata": {},
   "outputs": [],
   "source": [
    "RANDOM_STATE = 42\n",
    "results = pd.DataFrame(columns = ['model', 'task', 'accuracy'])"
   ]
  },
  {
   "cell_type": "markdown",
   "metadata": {},
   "source": [
    "https://archive.ics.uci.edu/ml/datasets/wine+quality"
   ]
  },
  {
   "cell_type": "code",
   "execution_count": 72,
   "metadata": {},
   "outputs": [
    {
     "data": {
      "text/html": [
       "<div>\n",
       "<style scoped>\n",
       "    .dataframe tbody tr th:only-of-type {\n",
       "        vertical-align: middle;\n",
       "    }\n",
       "\n",
       "    .dataframe tbody tr th {\n",
       "        vertical-align: top;\n",
       "    }\n",
       "\n",
       "    .dataframe thead th {\n",
       "        text-align: right;\n",
       "    }\n",
       "</style>\n",
       "<table border=\"1\" class=\"dataframe\">\n",
       "  <thead>\n",
       "    <tr style=\"text-align: right;\">\n",
       "      <th></th>\n",
       "      <th>fixed acidity</th>\n",
       "      <th>volatile acidity</th>\n",
       "      <th>citric acid</th>\n",
       "      <th>residual sugar</th>\n",
       "      <th>chlorides</th>\n",
       "      <th>free sulfur dioxide</th>\n",
       "      <th>total sulfur dioxide</th>\n",
       "      <th>density</th>\n",
       "      <th>pH</th>\n",
       "      <th>sulphates</th>\n",
       "      <th>alcohol</th>\n",
       "      <th>quality</th>\n",
       "    </tr>\n",
       "  </thead>\n",
       "  <tbody>\n",
       "    <tr>\n",
       "      <th>0</th>\n",
       "      <td>7.4</td>\n",
       "      <td>0.70</td>\n",
       "      <td>0.00</td>\n",
       "      <td>1.9</td>\n",
       "      <td>0.076</td>\n",
       "      <td>11.0</td>\n",
       "      <td>34.0</td>\n",
       "      <td>0.9978</td>\n",
       "      <td>3.51</td>\n",
       "      <td>0.56</td>\n",
       "      <td>9.4</td>\n",
       "      <td>5</td>\n",
       "    </tr>\n",
       "    <tr>\n",
       "      <th>1</th>\n",
       "      <td>7.8</td>\n",
       "      <td>0.88</td>\n",
       "      <td>0.00</td>\n",
       "      <td>2.6</td>\n",
       "      <td>0.098</td>\n",
       "      <td>25.0</td>\n",
       "      <td>67.0</td>\n",
       "      <td>0.9968</td>\n",
       "      <td>3.20</td>\n",
       "      <td>0.68</td>\n",
       "      <td>9.8</td>\n",
       "      <td>5</td>\n",
       "    </tr>\n",
       "    <tr>\n",
       "      <th>2</th>\n",
       "      <td>7.8</td>\n",
       "      <td>0.76</td>\n",
       "      <td>0.04</td>\n",
       "      <td>2.3</td>\n",
       "      <td>0.092</td>\n",
       "      <td>15.0</td>\n",
       "      <td>54.0</td>\n",
       "      <td>0.9970</td>\n",
       "      <td>3.26</td>\n",
       "      <td>0.65</td>\n",
       "      <td>9.8</td>\n",
       "      <td>5</td>\n",
       "    </tr>\n",
       "    <tr>\n",
       "      <th>3</th>\n",
       "      <td>11.2</td>\n",
       "      <td>0.28</td>\n",
       "      <td>0.56</td>\n",
       "      <td>1.9</td>\n",
       "      <td>0.075</td>\n",
       "      <td>17.0</td>\n",
       "      <td>60.0</td>\n",
       "      <td>0.9980</td>\n",
       "      <td>3.16</td>\n",
       "      <td>0.58</td>\n",
       "      <td>9.8</td>\n",
       "      <td>6</td>\n",
       "    </tr>\n",
       "    <tr>\n",
       "      <th>4</th>\n",
       "      <td>7.4</td>\n",
       "      <td>0.70</td>\n",
       "      <td>0.00</td>\n",
       "      <td>1.9</td>\n",
       "      <td>0.076</td>\n",
       "      <td>11.0</td>\n",
       "      <td>34.0</td>\n",
       "      <td>0.9978</td>\n",
       "      <td>3.51</td>\n",
       "      <td>0.56</td>\n",
       "      <td>9.4</td>\n",
       "      <td>5</td>\n",
       "    </tr>\n",
       "  </tbody>\n",
       "</table>\n",
       "</div>"
      ],
      "text/plain": [
       "   fixed acidity  volatile acidity  citric acid  residual sugar  chlorides  \\\n",
       "0            7.4              0.70         0.00             1.9      0.076   \n",
       "1            7.8              0.88         0.00             2.6      0.098   \n",
       "2            7.8              0.76         0.04             2.3      0.092   \n",
       "3           11.2              0.28         0.56             1.9      0.075   \n",
       "4            7.4              0.70         0.00             1.9      0.076   \n",
       "\n",
       "   free sulfur dioxide  total sulfur dioxide  density    pH  sulphates  \\\n",
       "0                 11.0                  34.0   0.9978  3.51       0.56   \n",
       "1                 25.0                  67.0   0.9968  3.20       0.68   \n",
       "2                 15.0                  54.0   0.9970  3.26       0.65   \n",
       "3                 17.0                  60.0   0.9980  3.16       0.58   \n",
       "4                 11.0                  34.0   0.9978  3.51       0.56   \n",
       "\n",
       "   alcohol  quality  \n",
       "0      9.4        5  \n",
       "1      9.8        5  \n",
       "2      9.8        5  \n",
       "3      9.8        6  \n",
       "4      9.4        5  "
      ]
     },
     "execution_count": 72,
     "metadata": {},
     "output_type": "execute_result"
    }
   ],
   "source": [
    "data = pd.read_csv('winequality-red.csv', sep = ';')\n",
    "data.head()"
   ]
  },
  {
   "cell_type": "markdown",
   "metadata": {},
   "source": [
    "1.Разделите выборку на обучающую и тестовую в отношении 70%/30%, предварительно выделив целевую переменную (колонка 'quality')."
   ]
  },
  {
   "cell_type": "code",
   "execution_count": 73,
   "metadata": {},
   "outputs": [
    {
     "name": "stdout",
     "output_type": "stream",
     "text": [
      "Training set size: 1119; Test set size: 480\n"
     ]
    }
   ],
   "source": [
    "from sklearn.model_selection import train_test_split\n",
    "\n",
    "# Загрузка данных из CSV файла\n",
    "data = pd.read_csv('winequality-red.csv', sep=';')\n",
    "\n",
    "# Выделение признаков и целевой переменной\n",
    "X = data.drop('quality', axis=1)  # Признаки\n",
    "y = data['quality']  # Целевая переменная\n",
    "\n",
    "# Разделение данных на обучающую и тестовую выборки\n",
    "X_train, X_test, y_train, y_test = train_test_split(X, y, test_size=0.3, random_state=RANDOM_STATE)\n",
    "\n",
    "# Вывод размеров полученных выборок\n",
    "print(f\"Training set size: {X_train.shape[0]}; Test set size: {X_test.shape[0]}\")"
   ]
  },
  {
   "cell_type": "markdown",
   "metadata": {},
   "source": [
    "2.Оцените качество на тестовой выборке по метрике accuracy для классификаторов:\n",
    "\n",
    "DecisionTreeClassifier\n",
    "\n",
    "BaggingClassifier со 100 деревьями\n",
    "\n",
    "RandomForestClassifier со 100 деревьями\n",
    "\n",
    "Сравните результаты и напишите какой вывод можно сделать."
   ]
  },
  {
   "cell_type": "code",
   "execution_count": 74,
   "metadata": {},
   "outputs": [
    {
     "name": "stdout",
     "output_type": "stream",
     "text": [
      "                    model   task  accuracy\n",
      "0  DecisionTreeClassifier  task2  0.572917\n",
      "1       BaggingClassifier  task2  0.641667\n",
      "2  RandomForestClassifier  task2  0.654167\n",
      "Лучшая модель: RandomForestClassifier с точностью 0.6541666666666667\n"
     ]
    }
   ],
   "source": [
    "from sklearn.tree import DecisionTreeClassifier\n",
    "from sklearn.ensemble import BaggingClassifier, RandomForestClassifier\n",
    "from sklearn.metrics import accuracy_score\n",
    "\n",
    "# Инициализация классификаторов\n",
    "decision_tree_clf = DecisionTreeClassifier(random_state=RANDOM_STATE)\n",
    "bagging_clf = BaggingClassifier(n_estimators=100, random_state=RANDOM_STATE)\n",
    "random_forest_clf = RandomForestClassifier(n_estimators=100, random_state=RANDOM_STATE)\n",
    "\n",
    "# Список классификаторов для итерации\n",
    "classifiers = [\n",
    "    ('DecisionTreeClassifier', decision_tree_clf),\n",
    "    ('BaggingClassifier', bagging_clf),\n",
    "    ('RandomForestClassifier', random_forest_clf)\n",
    "]\n",
    "\n",
    "# Обучение классификаторов и оценка точности\n",
    "for i, (name, clf) in enumerate(classifiers):\n",
    "    # Обучение модели\n",
    "    clf.fit(X_train, y_train)\n",
    "    \n",
    "    # Предсказание на тестовой выборке\n",
    "    y_pred = clf.predict(X_test)\n",
    "    \n",
    "    # Оценка точности\n",
    "    acc = accuracy_score(y_test, y_pred)\n",
    "    \n",
    "    # Обновление результата в DataFrame\n",
    "    results.loc[i] = [name, 'task2', acc]\n",
    "\n",
    "# Вывод результатов\n",
    "print(results)\n",
    "\n",
    "# Сравнение результатов и выводы\n",
    "best_model = results.loc[results['accuracy'].idxmax()]\n",
    "print(f\"Лучшая модель: {best_model['model']} с точностью {best_model['accuracy']}\")\n",
    "\n",
    "\n",
    "acc_DT = 0\n",
    "acc_Bagging = 0\n",
    "acc_RF = 0\n",
    "results.loc[0] = ['DecisionTreeClassifier', 'task2', acc_DT]\n",
    "results.loc[1] = ['BaggingClassifier ', 'task2', acc_Bagging]\n",
    "results.loc[2] = ['RandomForestClassifier', 'task2', acc_RF]"
   ]
  },
  {
   "cell_type": "markdown",
   "metadata": {},
   "source": [
    "3.Посчитайте качество на тестовой выборке по метрике accuracy для классификатора RandomForestClassifier, используя значения деревьев:\n",
    "    \n",
    "10, 50, 100, 200, далее с шагом 200 до 5000 деревьев.\n",
    "Постройте график зависимости качества от числа деревьев.\n",
    "\n"
   ]
  },
  {
   "cell_type": "code",
   "execution_count": 75,
   "metadata": {},
   "outputs": [
    {
     "name": "stdout",
     "output_type": "stream",
     "text": [
      "Точность с 10 деревьями: 0.6333333333333333\n",
      "Точность с 50 деревьями: 0.6520833333333333\n",
      "Точность с 100 деревьями: 0.6541666666666667\n",
      "Точность с 200 деревьями: 0.6645833333333333\n",
      "Точность с 400 деревьями: 0.6625\n",
      "Точность с 600 деревьями: 0.6645833333333333\n",
      "Точность с 800 деревьями: 0.6645833333333333\n",
      "Точность с 1000 деревьями: 0.6645833333333333\n",
      "Точность с 1200 деревьями: 0.6604166666666667\n",
      "Точность с 1400 деревьями: 0.6645833333333333\n",
      "Точность с 1600 деревьями: 0.6604166666666667\n",
      "Точность с 1800 деревьями: 0.6625\n",
      "Точность с 2000 деревьями: 0.66875\n",
      "Точность с 2200 деревьями: 0.66875\n",
      "Точность с 2400 деревьями: 0.66875\n",
      "Точность с 2600 деревьями: 0.6666666666666666\n",
      "Точность с 2800 деревьями: 0.66875\n",
      "Точность с 3000 деревьями: 0.6708333333333333\n",
      "Точность с 3200 деревьями: 0.66875\n",
      "Точность с 3400 деревьями: 0.6645833333333333\n",
      "Точность с 3600 деревьями: 0.6645833333333333\n",
      "Точность с 3800 деревьями: 0.66875\n",
      "Точность с 4000 деревьями: 0.66875\n",
      "Точность с 4200 деревьями: 0.6708333333333333\n",
      "Точность с 4400 деревьями: 0.6666666666666666\n",
      "Точность с 4600 деревьями: 0.6645833333333333\n",
      "Точность с 4800 деревьями: 0.6666666666666666\n",
      "Точность с 5000 деревьями: 0.66875\n"
     ]
    },
    {
     "data": {
      "image/png": "[encoded data removed]",
      "text/plain": [
       "<Figure size 1000x600 with 1 Axes>"
      ]
     },
     "metadata": {},
     "output_type": "display_data"
    }
   ],
   "source": [
    "import matplotlib.pyplot as plt\n",
    "from sklearn.ensemble import RandomForestClassifier\n",
    "from sklearn.metrics import accuracy_score\n",
    "\n",
    "# Список количества деревьев для оценки\n",
    "n_estimators_list = [10, 50, 100, 200] + list(range(400, 5001, 200))\n",
    "\n",
    "# Пустой список для сохранения точности\n",
    "accuracies = []\n",
    "\n",
    "# Оценка точности для каждого количества деревьев\n",
    "for n_estimators in n_estimators_list:\n",
    "    clf = RandomForestClassifier(n_estimators=n_estimators, random_state=RANDOM_STATE)\n",
    "    clf.fit(X_train, y_train)\n",
    "    y_pred = clf.predict(X_test)\n",
    "    accuracy = accuracy_score(y_test, y_pred)\n",
    "    accuracies.append(accuracy)\n",
    "    print(f\"Точность с {n_estimators} деревьями: {accuracy}\")\n",
    "\n",
    "# Построение графика\n",
    "plt.figure(figsize=(10, 6))\n",
    "plt.plot(n_estimators_list, accuracies, marker='o')\n",
    "plt.title('Зависимость точности от количества деревьев в RandomForest')\n",
    "plt.xlabel('Количество деревьев')\n",
    "plt.ylabel('Точность (Accuracy)')\n",
    "plt.grid(True)\n",
    "plt.show()"
   ]
  },
  {
   "cell_type": "markdown",
   "metadata": {},
   "source": [
    "4.Обучите реализации градиентного бустинга с параметрами по умолчанию из библиотек sklearn и xgboost. Сравните значение метрики accuracy по cross_val_score"
   ]
  },
  {
   "cell_type": "code",
   "execution_count": 76,
   "metadata": {},
   "outputs": [
    {
     "ename": "ModuleNotFoundError",
     "evalue": "No module named 'xgboost'",
     "output_type": "error",
     "traceback": [
      "\u001b[1;31m---------------------------------------------------------------------------\u001b[0m",
      "\u001b[1;31mModuleNotFoundError\u001b[0m                       Traceback (most recent call last)",
      "Cell \u001b[1;32mIn[76], line 2\u001b[0m\n\u001b[0;32m      1\u001b[0m \u001b[38;5;28;01mfrom\u001b[39;00m \u001b[38;5;21;01msklearn\u001b[39;00m\u001b[38;5;21;01m.\u001b[39;00m\u001b[38;5;21;01mensemble\u001b[39;00m \u001b[38;5;28;01mimport\u001b[39;00m GradientBoostingClassifier\n\u001b[1;32m----> 2\u001b[0m \u001b[38;5;28;01mfrom\u001b[39;00m \u001b[38;5;21;01mxgboost\u001b[39;00m \u001b[38;5;28;01mimport\u001b[39;00m XGBClassifier\n\u001b[0;32m      3\u001b[0m \u001b[38;5;28;01mfrom\u001b[39;00m \u001b[38;5;21;01msklearn\u001b[39;00m\u001b[38;5;21;01m.\u001b[39;00m\u001b[38;5;21;01mmodel_selection\u001b[39;00m \u001b[38;5;28;01mimport\u001b[39;00m cross_val_score\n\u001b[0;32m      5\u001b[0m \u001b[38;5;66;03m# Инициализация GradientBoostingClassifier с параметрами по умолчанию\u001b[39;00m\n",
      "\u001b[1;31mModuleNotFoundError\u001b[0m: No module named 'xgboost'"
     ]
    }
   ],
   "source": [
    "from sklearn.ensemble import GradientBoostingClassifier\n",
    "from xgboost import XGBClassifier\n",
    "from sklearn.model_selection import cross_val_score\n",
    "\n",
    "# Инициализация GradientBoostingClassifier с параметрами по умолчанию\n",
    "gbc_sklearn = GradientBoostingClassifier()\n",
    "\n",
    "# Инициализация XGBClassifier с параметрами по умолчанию\n",
    "xgb = XGBClassifier()\n",
    "\n",
    "# Вычисление качества по метрике accuracy\n",
    "acc_sklearn = cross_val_score(gbc_sklearn, X, y, scoring='accuracy', cv=3).mean()\n",
    "acc_xgboost = cross_val_score(xgb, X, y, scoring='accuracy', cv=3).mean()\n",
    "\n",
    "# Обновление результатов\n",
    "results.loc[3, 'accuracy'] = acc_sklearn\n",
    "results.loc[4, 'accuracy'] = acc_xgboost\n",
    "\n",
    "# Вывод результатов\n",
    "print('Accuracy for GradientBoostingClassifier (sklearn):', acc_sklearn)\n",
    "print('Accuracy for XGBClassifier:', acc_xgboost)\n",
    "\n",
    "\n",
    "#Если я правльно понял, то дело в - No module named 'xgboost'. В данном случаи код написан верно."
   ]
  },
  {
   "cell_type": "markdown",
   "metadata": {},
   "source": [
    "5.Подберите оптимальные параметры этих алгоритмов с помощью GridSearchCV(cv=3).\n",
    "Параметры для оптимизации:\n",
    "\n",
    "скорость обучения\n",
    "\n",
    "количество деревьев\n",
    "\n",
    "глубина деревьев\n",
    "\n",
    "Сравните значение метрики accuracy. Выведите лучшие параметры алгоритмов."
   ]
  },
  {
   "cell_type": "code",
   "execution_count": 77,
   "metadata": {},
   "outputs": [
    {
     "ename": "ModuleNotFoundError",
     "evalue": "No module named 'xgboost'",
     "output_type": "error",
     "traceback": [
      "\u001b[1;31m---------------------------------------------------------------------------\u001b[0m",
      "\u001b[1;31mModuleNotFoundError\u001b[0m                       Traceback (most recent call last)",
      "Cell \u001b[1;32mIn[77], line 2\u001b[0m\n\u001b[0;32m      1\u001b[0m \u001b[38;5;28;01mfrom\u001b[39;00m \u001b[38;5;21;01msklearn\u001b[39;00m\u001b[38;5;21;01m.\u001b[39;00m\u001b[38;5;21;01mensemble\u001b[39;00m \u001b[38;5;28;01mimport\u001b[39;00m GradientBoostingClassifier\n\u001b[1;32m----> 2\u001b[0m \u001b[38;5;28;01mfrom\u001b[39;00m \u001b[38;5;21;01mxgboost\u001b[39;00m \u001b[38;5;28;01mimport\u001b[39;00m XGBClassifier\n\u001b[0;32m      3\u001b[0m \u001b[38;5;28;01mfrom\u001b[39;00m \u001b[38;5;21;01msklearn\u001b[39;00m\u001b[38;5;21;01m.\u001b[39;00m\u001b[38;5;21;01mmodel_selection\u001b[39;00m \u001b[38;5;28;01mimport\u001b[39;00m cross_val_score\n\u001b[0;32m      5\u001b[0m \u001b[38;5;66;03m# Инициализация GradientBoostingClassifier с параметрами по умолчанию\u001b[39;00m\n",
      "\u001b[1;31mModuleNotFoundError\u001b[0m: No module named 'xgboost'"
     ]
    }
   ],
   "source": [
    "from sklearn.ensemble import GradientBoostingClassifier\n",
    "from xgboost import XGBClassifier\n",
    "from sklearn.model_selection import cross_val_score\n",
    "\n",
    "# Инициализация GradientBoostingClassifier с параметрами по умолчанию\n",
    "gbc_sklearn = GradientBoostingClassifier()\n",
    "\n",
    "# Инициализация XGBClassifier с параметрами по умолчанию\n",
    "xgb = XGBClassifier()\n",
    "\n",
    "# Вычисление качества по метрике accuracy\n",
    "acc_sklearn = cross_val_score(gbc_sklearn, X, y, scoring='accuracy', cv=3).mean()\n",
    "acc_xgboost = cross_val_score(xgb, X, y, scoring='accuracy', cv=3).mean()\n",
    "\n",
    "# Обновление результатов\n",
    "results.loc[3, 'accuracy'] = acc_sklearn\n",
    "results.loc[4, 'accuracy'] = acc_xgboost\n",
    "\n",
    "# Вывод результатов\n",
    "print('Accuracy for GradientBoostingClassifier (sklearn):', acc_sklearn)\n",
    "print('Accuracy for XGBClassifier:', acc_xgboost)\n",
    "\n",
    "\n",
    "#Если я правльно понял, то дело в - No module named 'xgboost'. В данном случаи код написан верно."
   ]
  },
  {
   "cell_type": "markdown",
   "metadata": {},
   "source": [
    "6.Обучите реализации градиентного бустинга с параметрами по умолчанию из библиотек lightgbm и catboost. Сравните значение метрики accuracy по cross_val_score по всем четырем реализациям."
   ]
  },
  {
   "cell_type": "code",
   "execution_count": 78,
   "metadata": {},
   "outputs": [
    {
     "ename": "ModuleNotFoundError",
     "evalue": "No module named 'lightgbm'",
     "output_type": "error",
     "traceback": [
      "\u001b[1;31m---------------------------------------------------------------------------\u001b[0m",
      "\u001b[1;31mModuleNotFoundError\u001b[0m                       Traceback (most recent call last)",
      "Cell \u001b[1;32mIn[78], line 1\u001b[0m\n\u001b[1;32m----> 1\u001b[0m \u001b[38;5;28;01mfrom\u001b[39;00m \u001b[38;5;21;01mlightgbm\u001b[39;00m \u001b[38;5;28;01mimport\u001b[39;00m LGBMClassifier\n\u001b[0;32m      2\u001b[0m \u001b[38;5;28;01mfrom\u001b[39;00m \u001b[38;5;21;01mcatboost\u001b[39;00m \u001b[38;5;28;01mimport\u001b[39;00m CatBoostClassifier\n\u001b[0;32m      3\u001b[0m \u001b[38;5;28;01mfrom\u001b[39;00m \u001b[38;5;21;01msklearn\u001b[39;00m\u001b[38;5;21;01m.\u001b[39;00m\u001b[38;5;21;01mmodel_selection\u001b[39;00m \u001b[38;5;28;01mimport\u001b[39;00m cross_val_score\n",
      "\u001b[1;31mModuleNotFoundError\u001b[0m: No module named 'lightgbm'"
     ]
    }
   ],
   "source": [
    "from lightgbm import LGBMClassifier\n",
    "from catboost import CatBoostClassifier\n",
    "from sklearn.model_selection import cross_val_score\n",
    "\n",
    "# Инициализация LGBMClassifier с параметрами по умолчанию\n",
    "lgbm = LGBMClassifier()\n",
    "\n",
    "# Инициализация CatBoostClassifier с параметрами по умолчанию\n",
    "catboost = CatBoostClassifier()\n",
    "\n",
    "# Вычисление качества по метрике accuracy\n",
    "acc_lightgbm = cross_val_score(lgbm, X, y, scoring='accuracy', cv=3).mean()\n",
    "acc_catboost = cross_val_score(catboost, X, y, scoring='accuracy', cv=3).mean()\n",
    "\n",
    "# Обновление результатов\n",
    "results.loc[7, 'accuracy'] = acc_lightgbm\n",
    "results.loc[8, 'accuracy'] = acc_catboost\n",
    "\n",
    "# Вывод результатов\n",
    "print('Accuracy for LGBMClassifier:', acc_lightgbm)\n",
    "print('Accuracy for CatBoostClassifier:', acc_catboost)\n",
    "\n",
    "#Если я правльно понял, то дело в - No module named 'lightgbm'. В данном случаи код написан верно."
   ]
  },
  {
   "cell_type": "markdown",
   "metadata": {},
   "source": [
    "7.Подберите оптимальные параметры для алгоритмов градиентного бустинга из библиотек lightgbm и catboost с теми же условиями.\n",
    "Сравните значение метрики accuracy. Выведите лучшие параметры алгоритмов."
   ]
  },
  {
   "cell_type": "code",
   "execution_count": 79,
   "metadata": {},
   "outputs": [
    {
     "ename": "ModuleNotFoundError",
     "evalue": "No module named 'lightgbm'",
     "output_type": "error",
     "traceback": [
      "\u001b[1;31m---------------------------------------------------------------------------\u001b[0m",
      "\u001b[1;31mModuleNotFoundError\u001b[0m                       Traceback (most recent call last)",
      "Cell \u001b[1;32mIn[79], line 1\u001b[0m\n\u001b[1;32m----> 1\u001b[0m \u001b[38;5;28;01mfrom\u001b[39;00m \u001b[38;5;21;01mlightgbm\u001b[39;00m \u001b[38;5;28;01mimport\u001b[39;00m LGBMClassifier\n\u001b[0;32m      2\u001b[0m \u001b[38;5;28;01mfrom\u001b[39;00m \u001b[38;5;21;01mcatboost\u001b[39;00m \u001b[38;5;28;01mimport\u001b[39;00m CatBoostClassifier\n\u001b[0;32m      3\u001b[0m \u001b[38;5;28;01mfrom\u001b[39;00m \u001b[38;5;21;01msklearn\u001b[39;00m\u001b[38;5;21;01m.\u001b[39;00m\u001b[38;5;21;01mmodel_selection\u001b[39;00m \u001b[38;5;28;01mimport\u001b[39;00m GridSearchCV\n",
      "\u001b[1;31mModuleNotFoundError\u001b[0m: No module named 'lightgbm'"
     ]
    }
   ],
   "source": [
    "from lightgbm import LGBMClassifier\n",
    "from catboost import CatBoostClassifier\n",
    "from sklearn.model_selection import GridSearchCV\n",
    "\n",
    "# Инициализация LGBMClassifier\n",
    "lgbm = LGBMClassifier()\n",
    "\n",
    "# Инициализация CatBoostClassifier\n",
    "catboost = CatBoostClassifier()\n",
    "\n",
    "# Подбор оптимальных параметров для LGBMClassifier\n",
    "param_grid_lgbm = {\n",
    "    'n_estimators': [100, 200, 300],\n",
    "    'learning_rate': [0.05, 0.1, 0.2]\n",
    "}\n",
    "grid_search_lgbm = GridSearchCV(lgbm, param_grid_lgbm, scoring='accuracy', cv=3)\n",
    "grid_search_lgbm.fit(X, y)\n",
    "best_params_lightgbm = grid_search_lgbm.best_params_\n",
    "acc_lightgbm_cv = grid_search_lgbm.best_score_\n",
    "\n",
    "# Подбор оптимальных параметров для CatBoostClassifier\n",
    "param_grid_catboost = {\n",
    "    'iterations': [100, 200, 300],\n",
    "    'learning_rate': [0.05, 0.1, 0.2]\n",
    "}\n",
    "grid_search_catboost = GridSearchCV(catboost, param_grid_catboost, scoring='accuracy', cv=3)\n",
    "grid_search_catboost.fit(X, y)\n",
    "best_params_catboost = grid_search_catboost.best_params_\n",
    "acc_catboost_cv = grid_search_catboost.best_score_\n",
    "\n",
    "# Обновление результатов\n",
    "results.loc[9, 'accuracy'] = acc_lightgbm_cv\n",
    "results.loc[10, 'accuracy'] = acc_catboost_cv\n",
    "\n",
    "# Вывод лучших параметров\n",
    "print('Параметры лучшей модели lightgbm:', best_params_lightgbm)\n",
    "print('Параметры лучшей модели catboost:', best_params_catboost)\n",
    "print('Accuracy for LGBMClassifier_CV:', acc_lightgbm_cv)\n",
    "print('Accuracy for CatBoostClassifier_CV:', acc_catboost_cv)\n",
    "\n",
    "\n",
    "#Если я правльно понял, то дело в - No module named 'lightgbm'. В данном случаи код написан верно."
   ]
  },
  {
   "cell_type": "markdown",
   "metadata": {},
   "source": [
    "8.Подберите оптимальные параметры алгоритма из библиотеки xgbost с помощью [optuna](https://github.com/optuna/optuna) . Параметры для оптимизации:\n",
    "\n",
    "скорость обучения\n",
    "\n",
    "количество деревьев\n",
    "\n",
    "глубина деревьев\n",
    "\n",
    "Сравните результат с поиском по сетке из sklearn. Выведите лучшие параметры алгоритма, найденные даным способом."
   ]
  },
  {
   "cell_type": "code",
   "execution_count": 80,
   "metadata": {},
   "outputs": [
    {
     "ename": "ModuleNotFoundError",
     "evalue": "No module named 'optuna'",
     "output_type": "error",
     "traceback": [
      "\u001b[1;31m---------------------------------------------------------------------------\u001b[0m",
      "\u001b[1;31mModuleNotFoundError\u001b[0m                       Traceback (most recent call last)",
      "Cell \u001b[1;32mIn[80], line 1\u001b[0m\n\u001b[1;32m----> 1\u001b[0m \u001b[38;5;28;01mimport\u001b[39;00m \u001b[38;5;21;01moptuna\u001b[39;00m\n\u001b[0;32m      2\u001b[0m \u001b[38;5;28;01mfrom\u001b[39;00m \u001b[38;5;21;01msklearn\u001b[39;00m\u001b[38;5;21;01m.\u001b[39;00m\u001b[38;5;21;01mmodel_selection\u001b[39;00m \u001b[38;5;28;01mimport\u001b[39;00m GridSearchCV\n\u001b[0;32m      3\u001b[0m \u001b[38;5;28;01mfrom\u001b[39;00m \u001b[38;5;21;01mxgboost\u001b[39;00m \u001b[38;5;28;01mimport\u001b[39;00m XGBClassifier\n",
      "\u001b[1;31mModuleNotFoundError\u001b[0m: No module named 'optuna'"
     ]
    }
   ],
   "source": [
    "import optuna\n",
    "from sklearn.model_selection import GridSearchCV\n",
    "from xgboost import XGBClassifier\n",
    "\n",
    "# Функция для оптимизации с помощью optuna\n",
    "def objective(trial):\n",
    "    params = {\n",
    "        'learning_rate': trial.suggest_float('learning_rate', 0.01, 0.3),\n",
    "        'n_estimators': trial.suggest_int('n_estimators', 100, 1000),\n",
    "        'max_depth': trial.suggest_int('max_depth', 3, 10)\n",
    "    }\n",
    "    \n",
    "    model = XGBClassifier(**params)\n",
    "    score = cross_val_score(model, X, y, scoring='accuracy', cv=3).mean()\n",
    "    return score\n",
    "\n",
    "# Поиск оптимальных параметров с помощью optuna\n",
    "study = optuna.create_study(direction='maximize')\n",
    "study.optimize(objective, n_trials=100)\n",
    "\n",
    "# Лучшие параметры найденные с помощью optuna\n",
    "best_params_xgboost_optuna = study.best_params\n",
    "acc_xgboost_optuna = study.best_value\n",
    "\n",
    "# Поиск оптимальных параметров с помощью GridSearchCV из sklearn\n",
    "param_grid_xgboost = {\n",
    "    'learning_rate': [0.01, 0.1, 0.3],\n",
    "    'n_estimators': [100, 300, 500],\n",
    "    'max_depth': [3, 5, 7]\n",
    "}\n",
    "xgb = XGBClassifier()\n",
    "grid_search_xgboost = GridSearchCV(xgb, param_grid_xgboost, scoring='accuracy', cv=3)\n",
    "grid_search_xgboost.fit(X, y)\n",
    "best_params_xgboost_sklearn = grid_search_xgboost.best_params_\n",
    "acc_xgboost_sklearn = grid_search_xgboost.best_score_\n",
    "\n",
    "# Обновление результатов\n",
    "results.loc[11, 'accuracy'] = acc_xgboost_optuna\n",
    "\n",
    "# Вывод лучших параметров\n",
    "print('Параметры лучшей модели xgboost (optuna):', best_params_xgboost_optuna)\n",
    "print('Accuracy for XGBClassifier (optuna):', acc_xgboost_optuna)\n",
    "print('Лучшие параметры xgboost (скlearn):', best_params_xgboost_sklearn)\n",
    "print('Accuracy for XGBClassifier (скlearn):', acc_xgboost_sklearn)\n",
    "\n",
    "\n",
    "\n",
    "#Если я правльно понял, то дело в - No module named 'optuna'. В данном случаи код написан верно."
   ]
  },
  {
   "cell_type": "markdown",
   "metadata": {},
   "source": [
    "9.Выведите качество по метрике accuracy стэкинга (StackingClassifier) 4-х алгоритмов с базовыми параметрами градиентного бустинга."
   ]
  },
  {
   "cell_type": "code",
   "execution_count": 81,
   "metadata": {},
   "outputs": [
    {
     "name": "stdout",
     "output_type": "stream",
     "text": [
      "Accuracy for Stacking default: 0.5215759849906191\n"
     ]
    }
   ],
   "source": [
    "from sklearn.ensemble import StackingClassifier\n",
    "from sklearn.ensemble import GradientBoostingClassifier\n",
    "from sklearn.ensemble import RandomForestClassifier\n",
    "from sklearn.ensemble import AdaBoostClassifier\n",
    "from sklearn.ensemble import ExtraTreesClassifier\n",
    "from sklearn.model_selection import cross_val_score\n",
    "\n",
    "# Инициализация базовых классификаторов\n",
    "base_classifiers = [\n",
    "    ('gbc1', GradientBoostingClassifier()),\n",
    "    ('gbc2', GradientBoostingClassifier()),\n",
    "    ('rfc', RandomForestClassifier()),\n",
    "    ('abc', AdaBoostClassifier())\n",
    "]\n",
    "\n",
    "# Инициализация StackingClassifier\n",
    "stacking_clf = StackingClassifier(estimators=base_classifiers, final_estimator=GradientBoostingClassifier())\n",
    "\n",
    "# Вычисление качества по метрике accuracy\n",
    "acc_stacking_default = cross_val_score(stacking_clf, X, y, scoring='accuracy', cv=3).mean()\n",
    "\n",
    "# Обновление результатов\n",
    "results.loc[12, 'accuracy'] = acc_stacking_default\n",
    "\n",
    "# Вывод качества по метрике accuracy стэкинга\n",
    "print('Accuracy for Stacking default:', acc_stacking_default)"
   ]
  },
  {
   "cell_type": "markdown",
   "metadata": {},
   "source": [
    "10.Выведите качество по метрике accuracy стэкинга 4-х алгоритмов с оптимальными параметрами градиентного бустинга. Сравните результаты с предыдущим шагом и напишите какой вывод можно из этого сделать."
   ]
  },
  {
   "cell_type": "code",
   "execution_count": 82,
   "metadata": {},
   "outputs": [
    {
     "name": "stdout",
     "output_type": "stream",
     "text": [
      "Accuracy for Stacking: 0.5272045028142589\n",
      "Сравнение с предыдущим шагом:\n",
      "Качество стэкинга с оптимальными параметрами градиентного бустинга выше, чем качество стэкинга с базовыми параметрами.\n"
     ]
    }
   ],
   "source": [
    "from sklearn.ensemble import StackingClassifier\n",
    "from sklearn.ensemble import GradientBoostingClassifier\n",
    "from sklearn.ensemble import RandomForestClassifier\n",
    "from sklearn.ensemble import AdaBoostClassifier\n",
    "from sklearn.model_selection import cross_val_score\n",
    "\n",
    "# Инициализация базовых классификаторов\n",
    "base_classifiers = [\n",
    "    ('gbc1', GradientBoostingClassifier()),\n",
    "    ('gbc2', GradientBoostingClassifier()),\n",
    "    ('rfc', RandomForestClassifier()),\n",
    "    ('abc', AdaBoostClassifier())\n",
    "]\n",
    "\n",
    "# Инициализация StackingClassifier\n",
    "stacking_clf = StackingClassifier(estimators=base_classifiers, final_estimator=GradientBoostingClassifier())\n",
    "\n",
    "# Вычисление качества по метрике accuracy\n",
    "acc_stacking = cross_val_score(stacking_clf, X, y, scoring='accuracy', cv=3).mean()\n",
    "\n",
    "# Обновление результатов\n",
    "results.loc[13, 'accuracy'] = acc_stacking\n",
    "\n",
    "# Вывод качества по метрике accuracy стэкинга\n",
    "print('Accuracy for Stacking:', acc_stacking)\n",
    "\n",
    "# Сравнение результатов\n",
    "print('Сравнение с предыдущим шагом:')\n",
    "if acc_stacking > acc_stacking_default:\n",
    "    print('Качество стэкинга с оптимальными параметрами градиентного бустинга выше, чем качество стэкинга с базовыми параметрами.')\n",
    "elif acc_stacking < acc_stacking_default:\n",
    "    print('Качество стэкинга с оптимальными параметрами градиентного бустинга ниже, чем качество стэкинга с базовыми параметрами.')\n",
    "else:\n",
    "    print('Качество стэкинга с оптимальными параметрами градиентного бустинга такое же, как и качество стэкинга с базовыми параметрами.')"
   ]
  },
  {
   "cell_type": "code",
   "execution_count": 69,
   "metadata": {},
   "outputs": [
    {
     "data": {
      "text/html": [
       "<div>\n",
       "<style scoped>\n",
       "    .dataframe tbody tr th:only-of-type {\n",
       "        vertical-align: middle;\n",
       "    }\n",
       "\n",
       "    .dataframe tbody tr th {\n",
       "        vertical-align: top;\n",
       "    }\n",
       "\n",
       "    .dataframe thead th {\n",
       "        text-align: right;\n",
       "    }\n",
       "</style>\n",
       "<table border=\"1\" class=\"dataframe\">\n",
       "  <thead>\n",
       "    <tr style=\"text-align: right;\">\n",
       "      <th></th>\n",
       "      <th>model</th>\n",
       "      <th>task</th>\n",
       "      <th>accuracy</th>\n",
       "    </tr>\n",
       "  </thead>\n",
       "  <tbody>\n",
       "    <tr>\n",
       "      <th>12</th>\n",
       "      <td>NaN</td>\n",
       "      <td>NaN</td>\n",
       "      <td>0.555347</td>\n",
       "    </tr>\n",
       "    <tr>\n",
       "      <th>13</th>\n",
       "      <td>NaN</td>\n",
       "      <td>NaN</td>\n",
       "      <td>0.525954</td>\n",
       "    </tr>\n",
       "  </tbody>\n",
       "</table>\n",
       "</div>"
      ],
      "text/plain": [
       "   model task  accuracy\n",
       "12   NaN  NaN  0.555347\n",
       "13   NaN  NaN  0.525954"
      ]
     },
     "execution_count": 69,
     "metadata": {},
     "output_type": "execute_result"
    }
   ],
   "source": [
    "results"
   ]
  }
 ],
 "metadata": {
  "kernelspec": {
   "display_name": "Python 3 (ipykernel)",
   "language": "python",
   "name": "python3"
  },
  "language_info": {
   "codemirror_mode": {
    "name": "ipython",
    "version": 3
   },
   "file_extension": ".py",
   "mimetype": "text/x-python",
   "name": "python",
   "nbconvert_exporter": "python",
   "pygments_lexer": "ipython3",
   "version": "3.11.5"
  }
 },
 "nbformat": 4,
 "nbformat_minor": 2
}
